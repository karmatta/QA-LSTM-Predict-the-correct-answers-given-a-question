{
 "cells": [
  {
   "cell_type": "code",
   "execution_count": 1,
   "metadata": {
    "scrolled": false
   },
   "outputs": [],
   "source": [
    "# This python notebook is used to build a QA LSTm for answering given questions\n",
    "# Implements from: https://arxiv.org/pdf/1511.04108.pdf\n",
    "# \n",
    "# \n",
    "# Author - Karthik D\n",
    "\n",
    "%matplotlib inline\n",
    "import os\n",
    "import hiddenlayer as hl\n",
    "import xml.etree.ElementTree as ET \n",
    "import json\n",
    "import re\n",
    "from tqdm import tqdm\n",
    "from collections import Iterable\n",
    "import random\n",
    "import itertools\n",
    "import pickle\n",
    "import torch\n",
    "from torch.autograd import Variable\n",
    "import torch.nn as nn\n",
    "from gensim.models.keyedvectors import KeyedVectors\n",
    "import numpy as np"
   ]
  },
  {
   "cell_type": "markdown",
   "metadata": {},
   "source": [
    "# Define Hyper-params"
   ]
  },
  {
   "cell_type": "code",
   "execution_count": 2,
   "metadata": {},
   "outputs": [],
   "source": [
    "PAD = '<PAD>'\n",
    "hidden_size = 60\n",
    "seq_len = 5\n",
    "batch_size = 64\n",
    "n_epochs = 10\n",
    "margin=1\n",
    "max_sent_len = 50\n",
    "embd_size = 300\n",
    "device = torch.device('cuda') if torch.cuda.is_available() else torch.device('cpu')"
   ]
  },
  {
   "cell_type": "markdown",
   "metadata": {},
   "source": [
    "# Util Functions"
   ]
  },
  {
   "cell_type": "code",
   "execution_count": 3,
   "metadata": {},
   "outputs": [],
   "source": [
    "# Function to parse xml files\n",
    "def parse_xml(datapath = \"./Data/\"):\n",
    "    question_list = []\n",
    "    k = 0\n",
    "    for filename in os.listdir(datapath):\n",
    "        if not filename.endswith('.xml'): continue\n",
    "        k+=1\n",
    "        fullname = os.path.join(datapath, filename)\n",
    "        root = ET.parse(fullname).getroot()\n",
    "        questDict = dict({root[0].tag:root[0].text})\n",
    "        questDict['QID'] = k\n",
    "        i=0\n",
    "        for refAnswer in root[1]:\n",
    "            i+=1\n",
    "            refAnswerTag = \"correct\" + str(i)\n",
    "            questDict[refAnswerTag] = refAnswer.text\n",
    "        for studentAnswer in root[2]:\n",
    "            i+=1\n",
    "            studentAnswerTag = studentAnswer.attrib.get(\"accuracy\") + str(i)\n",
    "            questDict[studentAnswerTag] = studentAnswer.text\n",
    "        #question_list.append(json.dumps(questDict))\n",
    "        question_list.append(questDict)\n",
    "    return(question_list)\n",
    "\n",
    "# Parse the dictionary and convert to list   \n",
    "def parse_dict(qa_dict):\n",
    "    negs = []\n",
    "    pos = []\n",
    "    final = []\n",
    "    qid = qa_dict.get('QID')\n",
    "    q = list(filter(None, re.sub(r'[?/\\(\\)\\.\\,\\[\\]\\{\\}\\!;:\\\"\\']', \" \", qa_dict.get('questionText')).lower().split(\" \")))\n",
    "    for key in qa_dict.keys():\n",
    "        # Fetch the negatives\n",
    "        if(bool(re.search(r'incorrect', key))):\n",
    "            negs.append(list(filter(None, re.sub(r'[?/\\(\\)\\.\\,\\[\\]\\{\\}\\!;:\\\"\\']', \" \", qa_dict.get(key)).lower().split(\" \"))))\n",
    "            continue\n",
    "        # Fetch the positives\n",
    "        elif(key != 'questionText' and key != 'QID'):\n",
    "            pos.append(list(filter(None, re.sub(r'[?/\\(\\)\\.\\,\\[\\]\\{\\}\\!;:\\\"\\']', \" \", qa_dict.get(key)).lower().split(\" \"))))\n",
    "    for correct in pos:\n",
    "        final.append([qid, q, correct, negs])\n",
    "    return(final)\n",
    "\n",
    "# Wrapper function to make development data\n",
    "def make_dev_data():\n",
    "    questList = parse_xml()\n",
    "    final = []\n",
    "    for qa in questList:\n",
    "        qs = parse_dict(qa)\n",
    "        for q in qs:\n",
    "            final.append(q)\n",
    "    return final\n",
    "\n",
    "# Function to flatten a list of lists\n",
    "def flat_list_l1(qa_list):\n",
    "    l = [word for sublist in qa_list for item in sublist for word in item]\n",
    "    flat_l = []\n",
    "    for i in l:\n",
    "        if isinstance(i, Iterable) and not isinstance(i, str):\n",
    "            for word in i:\n",
    "                flat_l.append(word)\n",
    "        else:\n",
    "            flat_l.append(i)\n",
    "    return list(filter(None, flat_l))\n",
    "\n",
    "# Function to flatten a list of lists\n",
    "def flat_list_l2(l1_flat):\n",
    "    flat_l = []\n",
    "    for i in l1_flat:\n",
    "        if isinstance(i, Iterable) and not isinstance(i, str):\n",
    "            for word in i:\n",
    "                flat_l.append(word)\n",
    "        else:\n",
    "            flat_l.append(i)\n",
    "    return list(filter(None, flat_l))\n",
    "\n",
    "# Function to make vocabulary from list of words\n",
    "def make_vocab(flattened_list) :\n",
    "    vocab = [] \n",
    "    for word in flattened_list:\n",
    "        if not word in vocab:\n",
    "            vocab.append(word)\n",
    "    return vocab\n",
    "\n",
    "# Make the dict wort to index\n",
    "def make_w2i(qa_list):\n",
    "    vocab = make_vocab(flat_list_l2(flat_list_l1(qa_list)))\n",
    "    w2i = {} \n",
    "    i = 0\n",
    "    for word in vocab:\n",
    "        if not word in w2i:\n",
    "            w2i[word] = i\n",
    "            i += 1\n",
    "    return w2i, vocab\n",
    "\n",
    "# Function to make train-test set\n",
    "def make_train_test_set(qa_list, perc=0.8):\n",
    "    ids =[]\n",
    "    reminder = []\n",
    "    train_list = []\n",
    "    for qa in qa_list:\n",
    "        idt = qa[0]\n",
    "        if idt not in ids:\n",
    "            train_list.append([qa[1], qa[2], qa[3]])\n",
    "            ids.append(idt)\n",
    "        else:\n",
    "            reminder.append([qa[1], qa[2], qa[3]])\n",
    "    train_set, test_set = train_test_split(reminder, perc)\n",
    "    train_set.append(train_list)\n",
    "    return train_set, test_set\n",
    "        \n",
    "# Function to make train-test split\n",
    "def train_test_split(qa_list, perc=0.8):\n",
    "    train_count = int(round(perc * len(qa_list), 0))\n",
    "    train_idx = random.sample(range(len(qa_list)), k=train_count)\n",
    "    test_idx = list(set(range(len(qa_list))) - set(train_idx))\n",
    "    train = [qa_list[i] for i in train_idx]\n",
    "    test = [qa_list[i] for i in test_idx]\n",
    "    return train, test\n",
    "\n",
    "# Wrapper function to make a torch variable\n",
    "def to_var(x):\n",
    "    if torch.cuda.is_available():\n",
    "        x = x.cuda()\n",
    "    return Variable(x)\n",
    "\n",
    "# Function to make word padding\n",
    "def padding(data, max_sent_len, pad_token):\n",
    "    pad_len = max(0, max_sent_len - len(data))\n",
    "    data += [pad_token] * pad_len\n",
    "    data = data[:max_sent_len]\n",
    "    return data\n",
    "\n",
    "# Wrapper to make a torch tensor from a list/np\n",
    "def make_tensor(data, w2i, seq_len):\n",
    "    ret_data = [padding([w2i[w] for w in d], seq_len, w2i[PAD]) for d in data]\n",
    "    return to_var(torch.LongTensor(ret_data))"
   ]
  },
  {
   "cell_type": "markdown",
   "metadata": {},
   "source": [
    "# QA_LSTM - **Define Model Architecture**"
   ]
  },
  {
   "cell_type": "code",
   "execution_count": 4,
   "metadata": {},
   "outputs": [],
   "source": [
    "class WordEmbedding(nn.Module):\n",
    "    def __init__(self, embed, vocab_sz, emb_sz, fine_tune=True):\n",
    "        super(WordEmbedding, self).__init__()\n",
    "        self.embedding = nn.Embedding(vocab_sz, emb_sz)\n",
    "         # In QA-LSTM model, embedding weights are fine-tuned\n",
    "        self.embedding.weight = nn.Parameter(embed, requires_grad=fine_tune)\n",
    "\n",
    "    def forward(self, x):\n",
    "        return self.embedding(x)\n",
    "\n",
    "\n",
    "class QA_LSTM(nn.Module):\n",
    "    def __init__(self, embed, vocab_sz, emb_sz, hidden_sz=hidden_size):\n",
    "        super(QA_LSTM, self).__init__()\n",
    "        self.hidden_sz, self.vocab_sz, self.emb_sz = hidden_sz, vocab_sz, emb_sz\n",
    "        self.word_embd = WordEmbedding(embed, vocab_sz, emb_sz)\n",
    "        self.shared_lstm = nn.LSTM(emb_sz, hidden_sz, batch_first=True, bidirectional=True)\n",
    "        self.cos = nn.CosineSimilarity(dim=1)\n",
    "\n",
    "    def forward(self, q, a):\n",
    "        # embedding\n",
    "        q = self.word_embd(q) # (bs, L, E)\n",
    "        a = self.word_embd(a) # (bs, L, E)\n",
    "\n",
    "        # LSTM\n",
    "        q, _h = self.shared_lstm(q) # (bs, L, 2H)\n",
    "        a, _h = self.shared_lstm(a) # (bs, L, 2H)\n",
    "\n",
    "        # mean\n",
    "        # q = torch.mean(q, 1) # (bs, 2H)\n",
    "        # a = torch.mean(a, 1) # (bs, 2H)\n",
    "        # maxpooling\n",
    "        q = torch.max(q, 1)[0] # (bs, 2H)\n",
    "        a = torch.max(a, 1)[0] # (bs, 2H)\n",
    "\n",
    "        return self.cos(q, a) # (bs,)"
   ]
  },
  {
   "cell_type": "code",
   "execution_count": 5,
   "metadata": {},
   "outputs": [],
   "source": [
    "# Function to load embedding weights\n",
    "def load_embd_weights(word2vec, vocab_size, embd_size, w2i):\n",
    "    embedding_matrix = np.zeros((vocab_size, embd_size))\n",
    "    print('embed_matrix.shape', embedding_matrix.shape)\n",
    "    found_ct = 0\n",
    "    for word, idx in w2i.items():\n",
    "        # words not found in embedding index will be all-zeros.\n",
    "        if (word in word2vec.wv):\n",
    "            embedding_matrix[idx] = word2vec.wv[word]\n",
    "            found_ct += 1\n",
    "    print(found_ct, 'words are found in word2vec. vocab_size is', vocab_size)\n",
    "    return torch.from_numpy(embedding_matrix).type(torch.FloatTensor)\n",
    "\n",
    "# Wrapper function to make embedding matrix\n",
    "def make_embedding(vocab_size, embd_size, w2i, model_path = './Embedding/GoogleNews-vectors-negative300.bin'):\n",
    "    word2vec = KeyedVectors.load_word2vec_format(model_path, binary=True, limit=500000)\n",
    "    pre_embd = load_embd_weights(word2vec, vocab_size, embd_size, w2i)\n",
    "    # save_pickle(pre_embd, 'pre_embd.pickle')\n",
    "    return pre_embd\n",
    "\n",
    "# Wrapper func to save model\n",
    "def save_model(model, pth):\n",
    "    torch.save(model.state_dict(),pth)\n",
    "\n",
    "# Define loss function\n",
    "def loss_fn(pos_sim, neg_sim, margin):\n",
    "    loss = margin - pos_sim + neg_sim\n",
    "    if loss.data[0] < 0:\n",
    "        loss.data[0] = 0\n",
    "    return loss\n",
    "\n",
    "# Train function\n",
    "def train_model(model, data, n_epochs=n_epochs, batch_size=batch_size, margin=margin):\n",
    "    \n",
    "    step=correct=0\n",
    "    loss_arr=[]\n",
    "    # A History object to store metrics\n",
    "    history = hl.History()\n",
    "    # A Canvas object to draw the metrics\n",
    "    canvas = hl.Canvas()\n",
    "    \n",
    "    model = model.to(device)\n",
    "    \n",
    "    optimizer = torch.optim.Adam(filter(lambda p: p.requires_grad, model.parameters()))\n",
    "    for epoch in range(n_epochs):\n",
    "        losses = []\n",
    "        for i, d in enumerate(data):\n",
    "            step +=1\n",
    "            q, pos, negs = d[0].copy(), d[1].copy(), d[2].copy()\n",
    "            vec_q = make_tensor([q], w2i, len(q)).to(device)\n",
    "            vec_pos = make_tensor([pos], w2i, len(pos)).to(device)\n",
    "            pos_sim = model(vec_q, vec_pos)\n",
    "            for _ in range(50):\n",
    "                neg = random.choice(negs)\n",
    "                vec_neg = make_tensor([neg], w2i, len(neg)).to(device)\n",
    "                neg_sim = model(vec_q, vec_neg)\n",
    "                loss = loss_fn(pos_sim, neg_sim, margin)\n",
    "                if loss.data[0] != 0:\n",
    "                    losses.append(loss)\n",
    "            \n",
    "            if len(losses) != 0:\n",
    "                loss = torch.mean(torch.stack(losses, 0).squeeze(), 0)\n",
    "                optimizer.zero_grad()\n",
    "                loss.backward()\n",
    "                optimizer.step()\n",
    "                losses = []\n",
    "                \n",
    "            # Calculate train accuracy:\n",
    "            # Accuracy is measured by prediction the correct from the list of answers.\n",
    "            cand_ans = negs.copy()\n",
    "            cand_ans.insert(0, pos)\n",
    "            label = [0]\n",
    "            max_cand_len = min(max_sent_len, max([len(c) for c in cand_ans]))\n",
    "            cand_ans = make_tensor(cand_ans, w2i, max_cand_len)\n",
    "            scores = [model(vec_q, c.unsqueeze(0)).data[0] for c in cand_ans]\n",
    "            pred_idx = np.argmax(scores)\n",
    "            if pred_idx in label:\n",
    "                correct += 1\n",
    "            acc = correct/step\n",
    "                \n",
    "            loss_arr.append(loss.detach().item())\n",
    "            avg_loss = sum(loss_arr)/step\n",
    "            \n",
    "            if(step % 100 == 0):\n",
    "                history.log(step, loss=avg_loss, TrainAccuracy=acc)\n",
    "                # Plot the two metrics in one graph\n",
    "                canvas.draw_plot([history['loss'], history['TrainAccuracy']])\n",
    "            print ('Epoch [{}/{}], Step [{}], Train_Loss: {:.4f}, Train_Accuracy: {:.4f}'.format(epoch+1, n_epochs, step, avg_loss, acc))\n",
    "            #torch.cuda.empty_cache()\n",
    "        #break\n",
    "\n",
    "# Test function\n",
    "def test_model(model, test_data):\n",
    "    correct, total = 0, 0\n",
    "    for d in tqdm(test_data):\n",
    "        total +=1\n",
    "        q, pos, negs = d[0].copy(), d[1].copy(), d[2].copy()\n",
    "        \n",
    "        cand_ans = negs\n",
    "        cand_ans.insert(0, pos)\n",
    "\n",
    "        # preprare answer labels\n",
    "        label_indices = [0]\n",
    "\n",
    "        # build data\n",
    "        q = make_tensor([q], w2i, len(q))\n",
    "        max_cand_len = min(max_sent_len, max([len(c) for c in cand_ans]))\n",
    "        cand_ans = make_tensor(cand_ans, w2i, max_cand_len)\n",
    "        #print(c.shape)\n",
    "        # predict\n",
    "        scores = [model(q, c.unsqueeze(0)).data[0] for c in cand_ans]\n",
    "        pred_idx = np.argmax(scores)\n",
    "        if pred_idx in label_indices:\n",
    "            correct += 1\n",
    "    print('Test Acc:', round(100*correct/total, 2), '%')"
   ]
  },
  {
   "cell_type": "code",
   "execution_count": 6,
   "metadata": {},
   "outputs": [
    {
     "name": "stderr",
     "output_type": "stream",
     "text": [
      "/home/jupyter/.local/lib/python3.5/site-packages/smart_open/smart_open_lib.py:398: UserWarning: This function is deprecated, use smart_open.open instead. See the migration notes for details: https://github.com/RaRe-Technologies/smart_open/blob/master/README.rst#migrating-to-the-new-open-function\n",
      "  'See the migration notes for details: %s' % _MIGRATION_NOTES_URL\n"
     ]
    },
    {
     "name": "stdout",
     "output_type": "stream",
     "text": [
      "embed_matrix.shape (2528, 300)\n",
      "2414 words are found in word2vec. vocab_size is 2528\n"
     ]
    },
    {
     "name": "stderr",
     "output_type": "stream",
     "text": [
      "/usr/local/lib/python3.5/dist-packages/ipykernel_launcher.py:8: DeprecationWarning: Call to deprecated `wv` (Attribute will be removed in 4.0.0, use self instead).\n",
      "  \n",
      "/usr/local/lib/python3.5/dist-packages/ipykernel_launcher.py:9: DeprecationWarning: Call to deprecated `wv` (Attribute will be removed in 4.0.0, use self instead).\n",
      "  if __name__ == '__main__':\n"
     ]
    }
   ],
   "source": [
    "# Make dataset\n",
    "qa_list = make_dev_data()\n",
    "train_data, test_data = make_train_test_set(qa_list)\n",
    "# make word to index and vocab\n",
    "w2i, vocab = make_w2i(train_data + test_data)\n",
    "w2i[PAD] = 0\n",
    "vocab_size = len(w2i)\n",
    "# Create embedding matrix for the vocab\n",
    "embed = make_embedding(vocab_size, embd_size, w2i)"
   ]
  },
  {
   "cell_type": "markdown",
   "metadata": {},
   "source": [
    "# Instantiate model"
   ]
  },
  {
   "cell_type": "code",
   "execution_count": null,
   "metadata": {},
   "outputs": [],
   "source": [
    "model = QA_LSTM(embed, vocab_size,  embd_size, hidden_size)"
   ]
  },
  {
   "cell_type": "markdown",
   "metadata": {},
   "source": [
    "# Train model"
   ]
  },
  {
   "cell_type": "code",
   "execution_count": 8,
   "metadata": {},
   "outputs": [
    {
     "data": {
      "image/png": "[encoded data removed]",
      "text/plain": [
       "<Figure size 864x288 with 1 Axes>"
      ]
     },
     "metadata": {
      "needs_background": "light"
     },
     "output_type": "display_data"
    },
    {
     "name": "stdout",
     "output_type": "stream",
     "text": [
      "Epoch [10/10], Step [16000], Train_Loss: 0.2038, Train_Accuracy: 0.8021\n",
      "Epoch [10/10], Step [16001], Train_Loss: 0.2038, Train_Accuracy: 0.8021\n",
      "Epoch [10/10], Step [16002], Train_Loss: 0.2038, Train_Accuracy: 0.8021\n",
      "Epoch [10/10], Step [16003], Train_Loss: 0.2037, Train_Accuracy: 0.8021\n",
      "Epoch [10/10], Step [16004], Train_Loss: 0.2037, Train_Accuracy: 0.8021\n",
      "Epoch [10/10], Step [16005], Train_Loss: 0.2037, Train_Accuracy: 0.8021\n",
      "Epoch [10/10], Step [16006], Train_Loss: 0.2037, Train_Accuracy: 0.8021\n",
      "Epoch [10/10], Step [16007], Train_Loss: 0.2037, Train_Accuracy: 0.8021\n",
      "Epoch [10/10], Step [16008], Train_Loss: 0.2037, Train_Accuracy: 0.8022\n",
      "Epoch [10/10], Step [16009], Train_Loss: 0.2037, Train_Accuracy: 0.8022\n",
      "Epoch [10/10], Step [16010], Train_Loss: 0.2037, Train_Accuracy: 0.8022\n",
      "Epoch [10/10], Step [16011], Train_Loss: 0.2037, Train_Accuracy: 0.8022\n",
      "Epoch [10/10], Step [16012], Train_Loss: 0.2036, Train_Accuracy: 0.8022\n",
      "Epoch [10/10], Step [16013], Train_Loss: 0.2036, Train_Accuracy: 0.8022\n",
      "Epoch [10/10], Step [16014], Train_Loss: 0.2036, Train_Accuracy: 0.8022\n",
      "Epoch [10/10], Step [16015], Train_Loss: 0.2036, Train_Accuracy: 0.8022\n",
      "Epoch [10/10], Step [16016], Train_Loss: 0.2036, Train_Accuracy: 0.8022\n",
      "Epoch [10/10], Step [16017], Train_Loss: 0.2036, Train_Accuracy: 0.8022\n",
      "Epoch [10/10], Step [16018], Train_Loss: 0.2036, Train_Accuracy: 0.8022\n",
      "Epoch [10/10], Step [16019], Train_Loss: 0.2036, Train_Accuracy: 0.8022\n",
      "Epoch [10/10], Step [16020], Train_Loss: 0.2036, Train_Accuracy: 0.8022\n",
      "Epoch [10/10], Step [16021], Train_Loss: 0.2036, Train_Accuracy: 0.8022\n",
      "Epoch [10/10], Step [16022], Train_Loss: 0.2036, Train_Accuracy: 0.8022\n",
      "Epoch [10/10], Step [16023], Train_Loss: 0.2036, Train_Accuracy: 0.8022\n",
      "Epoch [10/10], Step [16024], Train_Loss: 0.2035, Train_Accuracy: 0.8022\n",
      "Epoch [10/10], Step [16025], Train_Loss: 0.2035, Train_Accuracy: 0.8022\n",
      "Epoch [10/10], Step [16026], Train_Loss: 0.2035, Train_Accuracy: 0.8023\n",
      "Epoch [10/10], Step [16027], Train_Loss: 0.2036, Train_Accuracy: 0.8022\n",
      "Epoch [10/10], Step [16028], Train_Loss: 0.2035, Train_Accuracy: 0.8022\n",
      "Epoch [10/10], Step [16029], Train_Loss: 0.2035, Train_Accuracy: 0.8022\n",
      "Epoch [10/10], Step [16030], Train_Loss: 0.2035, Train_Accuracy: 0.8022\n",
      "Epoch [10/10], Step [16031], Train_Loss: 0.2035, Train_Accuracy: 0.8022\n",
      "Epoch [10/10], Step [16032], Train_Loss: 0.2035, Train_Accuracy: 0.8022\n",
      "Epoch [10/10], Step [16033], Train_Loss: 0.2035, Train_Accuracy: 0.8022\n",
      "Epoch [10/10], Step [16034], Train_Loss: 0.2035, Train_Accuracy: 0.8022\n",
      "Epoch [10/10], Step [16035], Train_Loss: 0.2035, Train_Accuracy: 0.8022\n",
      "Epoch [10/10], Step [16036], Train_Loss: 0.2035, Train_Accuracy: 0.8023\n",
      "Epoch [10/10], Step [16037], Train_Loss: 0.2035, Train_Accuracy: 0.8023\n",
      "Epoch [10/10], Step [16038], Train_Loss: 0.2035, Train_Accuracy: 0.8023\n",
      "Epoch [10/10], Step [16039], Train_Loss: 0.2035, Train_Accuracy: 0.8023\n",
      "Epoch [10/10], Step [16040], Train_Loss: 0.2034, Train_Accuracy: 0.8023\n",
      "Epoch [10/10], Step [16041], Train_Loss: 0.2034, Train_Accuracy: 0.8023\n",
      "Epoch [10/10], Step [16042], Train_Loss: 0.2035, Train_Accuracy: 0.8023\n",
      "Epoch [10/10], Step [16043], Train_Loss: 0.2034, Train_Accuracy: 0.8023\n",
      "Epoch [10/10], Step [16044], Train_Loss: 0.2034, Train_Accuracy: 0.8023\n",
      "Epoch [10/10], Step [16045], Train_Loss: 0.2034, Train_Accuracy: 0.8023\n",
      "Epoch [10/10], Step [16046], Train_Loss: 0.2034, Train_Accuracy: 0.8023\n",
      "Epoch [10/10], Step [16047], Train_Loss: 0.2034, Train_Accuracy: 0.8023\n",
      "Epoch [10/10], Step [16048], Train_Loss: 0.2034, Train_Accuracy: 0.8023\n",
      "Epoch [10/10], Step [16049], Train_Loss: 0.2034, Train_Accuracy: 0.8024\n",
      "Epoch [10/10], Step [16050], Train_Loss: 0.2034, Train_Accuracy: 0.8024\n"
     ]
    }
   ],
   "source": [
    "train_model(model, train_data)"
   ]
  },
  {
   "cell_type": "markdown",
   "metadata": {},
   "source": [
    "# Test Model"
   ]
  },
  {
   "cell_type": "code",
   "execution_count": 9,
   "metadata": {},
   "outputs": [
    {
     "name": "stderr",
     "output_type": "stream",
     "text": [
      "100%|██████████| 402/402 [00:36<00:00, 10.87it/s]"
     ]
    },
    {
     "name": "stdout",
     "output_type": "stream",
     "text": [
      "Test Acc: 72.89 %\n"
     ]
    },
    {
     "name": "stderr",
     "output_type": "stream",
     "text": [
      "\n"
     ]
    }
   ],
   "source": [
    "test_model(model, test_data)"
   ]
  },
  {
   "cell_type": "markdown",
   "metadata": {},
   "source": [
    "# Save Model"
   ]
  },
  {
   "cell_type": "code",
   "execution_count": null,
   "metadata": {},
   "outputs": [],
   "source": [
    "save_model(model, \"QA_model.ckpt\")"
   ]
  }
 ],
 "metadata": {
  "kernelspec": {
   "display_name": "Python 3",
   "language": "python",
   "name": "python3"
  },
  "language_info": {
   "codemirror_mode": {
    "name": "ipython",
    "version": 3
   },
   "file_extension": ".py",
   "mimetype": "text/x-python",
   "name": "python",
   "nbconvert_exporter": "python",
   "pygments_lexer": "ipython3",
   "version": "3.6.8"
  }
 },
 "nbformat": 4,
 "nbformat_minor": 2
}
